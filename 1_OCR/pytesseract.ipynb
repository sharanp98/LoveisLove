{
 "cells": [
  {
   "cell_type": "code",
   "execution_count": 50,
   "metadata": {},
   "outputs": [],
   "source": [
    "import pandas as pd\n",
    "\n",
    "columns = ['Filename', 'Text']\n",
    "df = pd.DataFrame(columns=columns)"
   ]
  },
  {
   "cell_type": "code",
   "execution_count": 51,
   "metadata": {},
   "outputs": [],
   "source": [
    "import re\n",
    "ls = []\n",
    "\n",
    "dataset = 'ocr_preprocessed_images/'\n",
    "for file in os.listdir(dataset):\n",
    "    image = Image.open(dataset+file)\n",
    "    detected_text = pytesseract.image_to_string(image, lang='eng')\n",
    "    clean_text = re.sub('\\W+',' ', detected_text)\n",
    "    new_line_removed_text = clean_text.replace(\"\\n\",\"\\t\")\n",
    "    df.loc[len(df)] = [file, new_line_removed_text]"
   ]
  },
  {
   "cell_type": "code",
   "execution_count": 52,
   "metadata": {},
   "outputs": [],
   "source": [
    "df\n",
    "df.to_csv('results_ocr.csv')"
   ]
  },
  {
   "cell_type": "code",
   "execution_count": null,
   "metadata": {},
   "outputs": [],
   "source": []
  }
 ],
 "metadata": {
  "kernelspec": {
   "display_name": "Python 3",
   "language": "python",
   "name": "python3"
  },
  "language_info": {
   "codemirror_mode": {
    "name": "ipython",
    "version": 3
   },
   "file_extension": ".py",
   "mimetype": "text/x-python",
   "name": "python",
   "nbconvert_exporter": "python",
   "pygments_lexer": "ipython3",
   "version": "3.8.3"
  }
 },
 "nbformat": 4,
 "nbformat_minor": 4
}
