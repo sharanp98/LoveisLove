{
 "cells": [
  {
   "cell_type": "code",
   "execution_count": 14,
   "metadata": {},
   "outputs": [],
   "source": [
    "import pandas as pd\n",
    "\n",
    "columns = ['Filename', 'Text']\n",
    "df = pd.DataFrame(columns=columns)"
   ]
  },
  {
   "cell_type": "code",
   "execution_count": 36,
   "metadata": {},
   "outputs": [
    {
     "name": "stdout",
     "output_type": "stream",
     "text": [
      "\n",
      "\n",
      "Toe Say Maing LGRT 1a. Hegatve\tFehorin thee Lite,\t\taap se wrt ue rey\tShermer:\n",
      "\n",
      "\n",
      "\n",
      "\n",
      "\n",
      "lesbianvenom:\tlesbicnvenoni:\tstraighten ers aren'tivorth ‘urmoney i've been tising one for three\tweeks and i'm still definitely a lesbian:\t\tinall my 20 years: of living this has béen by far my best joke'ever\n",
      "\n",
      "Words that HURT and WHY;\n",
      "S60: you oppose gay. fishes\t\t   \t\t= ‘ ft Ty\"\t“Recon (D ft\t=Working:\t\tsunday Na\tplease. shut the: hell wl i\n",
      "= Sesser ete ge\tcrm th RE\t\tEe aa ye\n",
      "@eeeo Verizon LIE’ 10:47AM © /@)$:34% ED\t\tx A\t\tI'veisaid fowade gays: and for that:\t‘matter ‘anyone: was: young,\tignorant, stupid, and inva.bad /\tplace. I ve. moved on: ‘and learned\t\t \t\t    \t\toffended. | have othing against\t“anyone or anything that ‘promotes\t‘equality.iSorry. again |\n",
      "\n"
     ]
    }
   ],
   "source": [
    "import re\n",
    "ls = []\n",
    "dataset = 'ocr_preprocessed_images/'\n",
    "for file in os.listdir(dataset):\n",
    "    image = Image.open(dataset+file)\n",
    "    detected_text = pytesseract.image_to_string(image, lang='eng')\n",
    "    clean_text = re.sub('\\W+',' ', detected_text)\n",
    "#     df.loc[len(df)] = [file, clean_text]"
   ]
  },
  {
   "cell_type": "code",
   "execution_count": 37,
   "metadata": {},
   "outputs": [
    {
     "data": {
      "text/html": [
       "<div>\n",
       "<style scoped>\n",
       "    .dataframe tbody tr th:only-of-type {\n",
       "        vertical-align: middle;\n",
       "    }\n",
       "\n",
       "    .dataframe tbody tr th {\n",
       "        vertical-align: top;\n",
       "    }\n",
       "\n",
       "    .dataframe thead th {\n",
       "        text-align: right;\n",
       "    }\n",
       "</style>\n",
       "<table border=\"1\" class=\"dataframe\">\n",
       "  <thead>\n",
       "    <tr style=\"text-align: right;\">\n",
       "      <th></th>\n",
       "      <th>Filename</th>\n",
       "      <th>Text</th>\n",
       "    </tr>\n",
       "  </thead>\n",
       "  <tbody>\n",
       "    <tr>\n",
       "      <th>0</th>\n",
       "      <td>Test181.jpg</td>\n",
       "      <td></td>\n",
       "    </tr>\n",
       "    <tr>\n",
       "      <th>1</th>\n",
       "      <td>Test239.jpg</td>\n",
       "      <td>ilearned this the‘hard way...\\n\\n \\n\\n“You eit...</td>\n",
       "    </tr>\n",
       "    <tr>\n",
       "      <th>2</th>\n",
       "      <td>Test581.jpg</td>\n",
       "      <td>rere giinae!\\n‘ener ma\\nerm to\\n\\n28 dso orvpe...</td>\n",
       "    </tr>\n",
       "    <tr>\n",
       "      <th>3</th>\n",
       "      <td>Test113.jpg</td>\n",
       "      <td></td>\n",
       "    </tr>\n",
       "    <tr>\n",
       "      <th>4</th>\n",
       "      <td>Test105.jpg</td>\n",
       "      <td></td>\n",
       "    </tr>\n",
       "    <tr>\n",
       "      <th>...</th>\n",
       "      <td>...</td>\n",
       "      <td>...</td>\n",
       "    </tr>\n",
       "    <tr>\n",
       "      <th>399</th>\n",
       "      <td>Test125.jpg</td>\n",
       "      <td>Words that HURT and WHY</td>\n",
       "    </tr>\n",
       "    <tr>\n",
       "      <th>400</th>\n",
       "      <td>Test135.jpg</td>\n",
       "      <td>S60 you oppose gay fishes ft Ty Recon D ft Wor...</td>\n",
       "    </tr>\n",
       "    <tr>\n",
       "      <th>401</th>\n",
       "      <td>Test100.jpg</td>\n",
       "      <td>Sesser ete ge crm th RE Ee aa ye</td>\n",
       "    </tr>\n",
       "    <tr>\n",
       "      <th>402</th>\n",
       "      <td>Test119.jpg</td>\n",
       "      <td>eeeo Verizon LIE 10 47AM 34 ED x A I veisaid ...</td>\n",
       "    </tr>\n",
       "    <tr>\n",
       "      <th>403</th>\n",
       "      <td>Test103.jpg</td>\n",
       "      <td></td>\n",
       "    </tr>\n",
       "  </tbody>\n",
       "</table>\n",
       "<p>404 rows × 2 columns</p>\n",
       "</div>"
      ],
      "text/plain": [
       "        Filename                                               Text\n",
       "0    Test181.jpg                                                   \n",
       "1    Test239.jpg  ilearned this the‘hard way...\\n\\n \\n\\n“You eit...\n",
       "2    Test581.jpg  rere giinae!\\n‘ener ma\\nerm to\\n\\n28 dso orvpe...\n",
       "3    Test113.jpg                                                   \n",
       "4    Test105.jpg                                                   \n",
       "..           ...                                                ...\n",
       "399  Test125.jpg                           Words that HURT and WHY \n",
       "400  Test135.jpg  S60 you oppose gay fishes ft Ty Recon D ft Wor...\n",
       "401  Test100.jpg                   Sesser ete ge crm th RE Ee aa ye\n",
       "402  Test119.jpg   eeeo Verizon LIE 10 47AM 34 ED x A I veisaid ...\n",
       "403  Test103.jpg                                                   \n",
       "\n",
       "[404 rows x 2 columns]"
      ]
     },
     "execution_count": 37,
     "metadata": {},
     "output_type": "execute_result"
    }
   ],
   "source": [
    "df\n",
    "# df.to_csv('results_ocr.csv')"
   ]
  },
  {
   "cell_type": "code",
   "execution_count": 4,
   "metadata": {},
   "outputs": [],
   "source": []
  }
 ],
 "metadata": {
  "kernelspec": {
   "display_name": "Python 3",
   "language": "python",
   "name": "python3"
  },
  "language_info": {
   "codemirror_mode": {
    "name": "ipython",
    "version": 3
   },
   "file_extension": ".py",
   "mimetype": "text/x-python",
   "name": "python",
   "nbconvert_exporter": "python",
   "pygments_lexer": "ipython3",
   "version": "3.8.3"
  }
 },
 "nbformat": 4,
 "nbformat_minor": 4
}
